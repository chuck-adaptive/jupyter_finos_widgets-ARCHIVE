{
 "cells": [
  {
   "cell_type": "code",
   "execution_count": 11,
   "id": "606ec2c2-8219-46a2-ad75-5f6193e0c738",
   "metadata": {
    "tags": []
   },
   "outputs": [],
   "source": [
    "import jupyter_finos_widgets"
   ]
  },
  {
   "cell_type": "code",
   "execution_count": 12,
   "id": "e8d2c158-43bb-450f-97f3-b24e95fb57ce",
   "metadata": {
    "tags": []
   },
   "outputs": [
    {
     "data": {
      "application/vnd.jupyter.widget-view+json": {
       "model_id": "92c38f0b0ad545f597e27e6210662912",
       "version_major": 2,
       "version_minor": 0
      },
      "text/plain": [
       "ExampleWidget()"
      ]
     },
     "execution_count": 12,
     "metadata": {},
     "output_type": "execute_result"
    }
   ],
   "source": [
    "w = jupyter_finos_widgets.ExampleWidget()\n",
    "w"
   ]
  },
  {
   "cell_type": "code",
   "execution_count": 13,
   "id": "11ac2e16-3223-4806-b134-8034d9d5643b",
   "metadata": {},
   "outputs": [
    {
     "data": {
      "application/vnd.jupyter.widget-view+json": {
       "model_id": "9542dd7bf4474f6ba86b84df6aa008c2",
       "version_major": 2,
       "version_minor": 0
      },
      "text/plain": [
       "ChannelWidget()"
      ]
     },
     "execution_count": 13,
     "metadata": {},
     "output_type": "execute_result"
    }
   ],
   "source": [
    "s = jupyter_finos_widgets.ChannelWidget()\n",
    "s"
   ]
  },
  {
   "cell_type": "code",
   "execution_count": 14,
   "id": "554424a0-2177-4f26-92e0-ac990b037104",
   "metadata": {},
   "outputs": [
    {
     "data": {
      "application/vnd.jupyter.widget-view+json": {
       "model_id": "26e1af59441a4899950d72c0b4ea396c",
       "version_major": 2,
       "version_minor": 0
      },
      "text/plain": [
       "TickerInputWidget()"
      ]
     },
     "execution_count": 14,
     "metadata": {},
     "output_type": "execute_result"
    }
   ],
   "source": [
    "t = jupyter_finos_widgets.TickerInputWidget()\n",
    "t"
   ]
  },
  {
   "cell_type": "code",
   "execution_count": 15,
   "id": "44b97495-ce45-4d63-8241-691d247344dd",
   "metadata": {
    "tags": []
   },
   "outputs": [
    {
     "data": {
      "application/vnd.jupyter.widget-view+json": {
       "model_id": "2246d402d3cf4340add942085aafcfe9",
       "version_major": 2,
       "version_minor": 0
      },
      "text/plain": [
       "ContextWidget()"
      ]
     },
     "execution_count": 15,
     "metadata": {},
     "output_type": "execute_result"
    }
   ],
   "source": [
    "c = jupyter_finos_widgets.ContextWidget()\n",
    "c"
   ]
  },
  {
   "cell_type": "code",
   "execution_count": null,
   "id": "db103a69-6024-4b85-93f7-a2624f43d28f",
   "metadata": {},
   "outputs": [],
   "source": []
  }
 ],
 "metadata": {
  "kernelspec": {
   "display_name": "Python 3 (ipykernel)",
   "language": "python",
   "name": "python3"
  },
  "language_info": {
   "codemirror_mode": {
    "name": "ipython",
    "version": 3
   },
   "file_extension": ".py",
   "mimetype": "text/x-python",
   "name": "python",
   "nbconvert_exporter": "python",
   "pygments_lexer": "ipython3",
   "version": "3.11.3"
  }
 },
 "nbformat": 4,
 "nbformat_minor": 5
}
